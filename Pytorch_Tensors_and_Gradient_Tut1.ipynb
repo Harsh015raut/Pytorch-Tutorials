{
  "nbformat": 4,
  "nbformat_minor": 0,
  "metadata": {
    "colab": {
      "provenance": [],
      "authorship_tag": "ABX9TyP5I6186FPs6LwZfvGLoh85",
      "include_colab_link": true
    },
    "kernelspec": {
      "name": "python3",
      "display_name": "Python 3"
    },
    "language_info": {
      "name": "python"
    }
  },
  "cells": [
    {
      "cell_type": "markdown",
      "metadata": {
        "id": "view-in-github",
        "colab_type": "text"
      },
      "source": [
        "<a href=\"https://colab.research.google.com/github/Harsh015raut/Pytorch-Tutorials/blob/main/Pytorch_Tensors_and_Gradient_Tut1.ipynb\" target=\"_parent\"><img src=\"https://colab.research.google.com/assets/colab-badge.svg\" alt=\"Open In Colab\"/></a>"
      ]
    },
    {
      "cell_type": "markdown",
      "source": [
        "## PyTorch Basics: Tensors & Gradients"
      ],
      "metadata": {
        "id": "vsEJF_lOQvfV"
      }
    },
    {
      "cell_type": "markdown",
      "source": [
        "#### *Part 1 of \"Pytorch: Zero to GANs\"*\n",
        "\n",
        "*This post is the first in a series of tutorials on building deep learning models with PyTorch, an open source neural networks library developed and maintained by Facebook. Check out the full series:*"
      ],
      "metadata": {
        "id": "OxQiO8YWRLVz"
      }
    },
    {
      "cell_type": "code",
      "execution_count": 1,
      "metadata": {
        "id": "9w4336vuQLFz"
      },
      "outputs": [],
      "source": [
        "import torch"
      ]
    },
    {
      "cell_type": "markdown",
      "source": [
        "## Tensors\n",
        "\n",
        "At its core, PyTorch is a library for processing tensors. A tensor is a number, vector, matrix or any n-dimensional array. Let's create a tensor with a single number:"
      ],
      "metadata": {
        "id": "C4OBiSX5RVJw"
      }
    },
    {
      "cell_type": "code",
      "source": [
        "# Let us make a number tensor\n",
        "t1 = torch.tensor(5.)\n",
        "t1"
      ],
      "metadata": {
        "colab": {
          "base_uri": "https://localhost:8080/"
        },
        "id": "8Ag_SHKRQTit",
        "outputId": "4f0376c5-e3bb-485d-f047-1a5d37177e85"
      },
      "execution_count": 2,
      "outputs": [
        {
          "output_type": "execute_result",
          "data": {
            "text/plain": [
              "tensor(5.)"
            ]
          },
          "metadata": {},
          "execution_count": 2
        }
      ]
    },
    {
      "cell_type": "markdown",
      "source": [
        "`5.` is a shorthand for `5.0`. It is used to indicate to Python (and PyTorch) that you want to create a floating point number. We can verify this by checking the `dtype` attribute of our tensor:"
      ],
      "metadata": {
        "id": "Lw2TPdbXRwdd"
      }
    },
    {
      "cell_type": "markdown",
      "source": [
        "Since we used `.` in front of number,it is stored as float32 object."
      ],
      "metadata": {
        "id": "Kxejvov5Sw6n"
      }
    },
    {
      "cell_type": "code",
      "source": [
        " t1.dtype"
      ],
      "metadata": {
        "colab": {
          "base_uri": "https://localhost:8080/"
        },
        "id": "_tES7QN6RqlO",
        "outputId": "821880a9-da31-4e8d-8814-f49ffc28235b"
      },
      "execution_count": 3,
      "outputs": [
        {
          "output_type": "execute_result",
          "data": {
            "text/plain": [
              "torch.float32"
            ]
          },
          "metadata": {},
          "execution_count": 3
        }
      ]
    },
    {
      "cell_type": "markdown",
      "source": [
        "if we simply say '5', it will be stored as int64."
      ],
      "metadata": {
        "id": "Y_j4wSiNTnmx"
      }
    },
    {
      "cell_type": "code",
      "source": [
        "t1 = torch.tensor(5)\n",
        "t1.dtype"
      ],
      "metadata": {
        "colab": {
          "base_uri": "https://localhost:8080/"
        },
        "id": "49v7w4q9Sv2K",
        "outputId": "9f633960-51ea-4429-a197-a2478a323a01"
      },
      "execution_count": 4,
      "outputs": [
        {
          "output_type": "execute_result",
          "data": {
            "text/plain": [
              "torch.int64"
            ]
          },
          "metadata": {},
          "execution_count": 4
        }
      ]
    },
    {
      "cell_type": "markdown",
      "source": [
        "Now we will create complex tensors"
      ],
      "metadata": {
        "id": "4Gf0YZNwTbZD"
      }
    },
    {
      "cell_type": "code",
      "source": [
        "## Vector - 1D\n",
        "t2 = torch.tensor([1.,2,3,4])\n",
        "t2"
      ],
      "metadata": {
        "colab": {
          "base_uri": "https://localhost:8080/"
        },
        "id": "XhogoaxhTU7C",
        "outputId": "ddb8e303-be59-4c25-d89f-df76da04dbd4"
      },
      "execution_count": 5,
      "outputs": [
        {
          "output_type": "execute_result",
          "data": {
            "text/plain": [
              "tensor([1., 2., 3., 4.])"
            ]
          },
          "metadata": {},
          "execution_count": 5
        }
      ]
    },
    {
      "cell_type": "markdown",
      "source": [
        "Note that here we have not given `.` to 2,3,4 still they will get coverted to floating point numbers as tensors have dtype of numbers same."
      ],
      "metadata": {
        "id": "oDP-MgPOT89o"
      }
    },
    {
      "cell_type": "code",
      "source": [
        "#MAtrix - 2D\n",
        "t3 = torch.tensor([[5.,6],\n",
        "                  [7,8],\n",
        "                  [9,10]])\n",
        "t3"
      ],
      "metadata": {
        "colab": {
          "base_uri": "https://localhost:8080/"
        },
        "id": "Rc2DWv4dT3MJ",
        "outputId": "2252d8c9-5188-4ec9-aad4-a5de9b83df30"
      },
      "execution_count": 6,
      "outputs": [
        {
          "output_type": "execute_result",
          "data": {
            "text/plain": [
              "tensor([[ 5.,  6.],\n",
              "        [ 7.,  8.],\n",
              "        [ 9., 10.]])"
            ]
          },
          "metadata": {},
          "execution_count": 6
        }
      ]
    },
    {
      "cell_type": "code",
      "source": [
        "# 3-d Array\n",
        "t4 = torch.tensor([\n",
        "    [[1,2,3]],\n",
        "    [[4,5,6]]\n",
        "])\n",
        "t4"
      ],
      "metadata": {
        "colab": {
          "base_uri": "https://localhost:8080/"
        },
        "id": "Dmw6rCN_T0oF",
        "outputId": "62c65d6b-d144-4d6c-91cd-8a7f5e4bffd1"
      },
      "execution_count": 7,
      "outputs": [
        {
          "output_type": "execute_result",
          "data": {
            "text/plain": [
              "tensor([[[1, 2, 3]],\n",
              "\n",
              "        [[4, 5, 6]]])"
            ]
          },
          "metadata": {},
          "execution_count": 7
        }
      ]
    },
    {
      "cell_type": "markdown",
      "source": [
        "Tensors can have any number of dimensions, and different lengths along each dimension. We can inspect the length along each dimension using the `.shape` property of a tensor."
      ],
      "metadata": {
        "id": "oqfbf1nYU8fM"
      }
    },
    {
      "cell_type": "code",
      "source": [
        "\n",
        "t1 = torch.tensor(5.)\n",
        "print(t1)\n",
        "t1.shape"
      ],
      "metadata": {
        "colab": {
          "base_uri": "https://localhost:8080/"
        },
        "id": "KN6ReAGPU3Yl",
        "outputId": "f1032e4c-b56a-4459-f468-cafbc17ee2d8"
      },
      "execution_count": 8,
      "outputs": [
        {
          "output_type": "stream",
          "name": "stdout",
          "text": [
            "tensor(5.)\n"
          ]
        },
        {
          "output_type": "execute_result",
          "data": {
            "text/plain": [
              "torch.Size([])"
            ]
          },
          "metadata": {},
          "execution_count": 8
        }
      ]
    },
    {
      "cell_type": "code",
      "source": [
        "print(t2)\n",
        "t2.shape"
      ],
      "metadata": {
        "id": "AjIU7THvVbiI",
        "colab": {
          "base_uri": "https://localhost:8080/"
        },
        "outputId": "ff02649f-6ce8-4e12-cef9-fd5dd151afa4"
      },
      "execution_count": 9,
      "outputs": [
        {
          "output_type": "stream",
          "name": "stdout",
          "text": [
            "tensor([1., 2., 3., 4.])\n"
          ]
        },
        {
          "output_type": "execute_result",
          "data": {
            "text/plain": [
              "torch.Size([4])"
            ]
          },
          "metadata": {},
          "execution_count": 9
        }
      ]
    },
    {
      "cell_type": "code",
      "source": [
        "print(t3)\n",
        "t3.shape"
      ],
      "metadata": {
        "colab": {
          "base_uri": "https://localhost:8080/"
        },
        "id": "FaReBvcC3kw1",
        "outputId": "f674d5a7-46a3-4e84-eb54-5426cb496c07"
      },
      "execution_count": 10,
      "outputs": [
        {
          "output_type": "stream",
          "name": "stdout",
          "text": [
            "tensor([[ 5.,  6.],\n",
            "        [ 7.,  8.],\n",
            "        [ 9., 10.]])\n"
          ]
        },
        {
          "output_type": "execute_result",
          "data": {
            "text/plain": [
              "torch.Size([3, 2])"
            ]
          },
          "metadata": {},
          "execution_count": 10
        }
      ]
    },
    {
      "cell_type": "code",
      "source": [
        "print(t4)\n",
        "t4.shape"
      ],
      "metadata": {
        "colab": {
          "base_uri": "https://localhost:8080/"
        },
        "id": "HfdHVkCQ36f3",
        "outputId": "f9d6e315-bdfd-4dd3-be5e-6aca83985b6d"
      },
      "execution_count": 11,
      "outputs": [
        {
          "output_type": "stream",
          "name": "stdout",
          "text": [
            "tensor([[[1, 2, 3]],\n",
            "\n",
            "        [[4, 5, 6]]])\n"
          ]
        },
        {
          "output_type": "execute_result",
          "data": {
            "text/plain": [
              "torch.Size([2, 1, 3])"
            ]
          },
          "metadata": {},
          "execution_count": 11
        }
      ]
    },
    {
      "cell_type": "markdown",
      "source": [
        "## Tensor operations and gradients\n",
        "\n",
        "We can combine tensors with the usual arithmetic operations. Let's look an example:"
      ],
      "metadata": {
        "id": "oX7P6G6F4gl-"
      }
    },
    {
      "cell_type": "code",
      "source": [
        "x = torch.tensor(3.)\n",
        "w = torch.tensor(4., requires_grad =True)\n",
        "b = torch.tensor(5.,requires_grad=True)\n",
        "x,w,b"
      ],
      "metadata": {
        "colab": {
          "base_uri": "https://localhost:8080/"
        },
        "id": "4xrscehs38kT",
        "outputId": "73d3db11-ea4e-4e1c-dc52-6d7779169483"
      },
      "execution_count": 12,
      "outputs": [
        {
          "output_type": "execute_result",
          "data": {
            "text/plain": [
              "(tensor(3.), tensor(4., requires_grad=True), tensor(5., requires_grad=True))"
            ]
          },
          "metadata": {},
          "execution_count": 12
        }
      ]
    },
    {
      "cell_type": "markdown",
      "source": [
        "We've created 3 tensors `x`, `w` and `b`, all numbers. `w` and `b` have an additional parameter `requires_grad` set to `True`. We'll see what it does in just a moment.\n",
        "\n",
        "Let's create a new tensor `y` by combining these tensors:"
      ],
      "metadata": {
        "id": "GpYrHafG5E_O"
      }
    },
    {
      "cell_type": "code",
      "source": [
        "y = w * x + b\n",
        "y"
      ],
      "metadata": {
        "colab": {
          "base_uri": "https://localhost:8080/"
        },
        "id": "ILezLPq85Aw2",
        "outputId": "a5e1ff65-9c96-4a83-acde-3c4c301582ce"
      },
      "execution_count": 13,
      "outputs": [
        {
          "output_type": "execute_result",
          "data": {
            "text/plain": [
              "tensor(17., grad_fn=<AddBackward0>)"
            ]
          },
          "metadata": {},
          "execution_count": 13
        }
      ]
    },
    {
      "cell_type": "markdown",
      "source": [
        "As expected, `y` is a tensor with the value `3 * 4 + 5 = 17`. What makes PyTorch special is that we can automatically compute the derivative of `y` w.r.t. the tensors that have `requires_grad` set to `True` i.e. w and b. To compute the derivatives, we can call the `.backward` method on our result `y`."
      ],
      "metadata": {
        "id": "gIJl8DL95N6l"
      }
    },
    {
      "cell_type": "code",
      "source": [
        "# Compute derivatives\n",
        "y.backward()"
      ],
      "metadata": {
        "id": "GssI-QRf5H3H"
      },
      "execution_count": 14,
      "outputs": []
    },
    {
      "cell_type": "markdown",
      "source": [
        "The derivates of `y` w.r.t the input tensors are stored in the `.grad` property of the respective tensors."
      ],
      "metadata": {
        "id": "viFslxoL5aQq"
      }
    },
    {
      "cell_type": "code",
      "source": [
        "# Display Gradients\n",
        "print('dy/dx',x.grad)\n",
        "print('dy/dw',w.grad)\n",
        "print('dy/db',b.grad)"
      ],
      "metadata": {
        "colab": {
          "base_uri": "https://localhost:8080/"
        },
        "id": "U8j5-FTU5Y5g",
        "outputId": "ca1ee024-aa5c-48cc-865d-8f7b9d60fd5e"
      },
      "execution_count": 15,
      "outputs": [
        {
          "output_type": "stream",
          "name": "stdout",
          "text": [
            "dy/dx None\n",
            "dy/dw tensor(3.)\n",
            "dy/db tensor(1.)\n"
          ]
        }
      ]
    },
    {
      "cell_type": "markdown",
      "source": [
        "As expected, `dy/dw` has the same value as `x` i.e. `3`, and `dy/db` has the value `1`. Note that `x.grad` is `None`, because `x` doesn't have `requires_grad` set to `True`.\n",
        "\n",
        "The \"grad\" in `w.grad` stands for gradient, which is another term for derivative, used mainly when dealing with matrices."
      ],
      "metadata": {
        "id": "juLCk-OG580j"
      }
    },
    {
      "cell_type": "markdown",
      "source": [
        "## Interoperability with Numpy\n",
        "\n",
        "[Numpy](http://www.numpy.org/) is a popular open source library used for mathematical and scientific computing in Python. It enables efficient operations on large multi-dimensional arrays, and has a large ecosystem of supporting libraries:\n",
        "\n",
        "* [Matplotlib](https://matplotlib.org/) for plotting and visualization\n",
        "* [OpenCV](https://opencv.org/) for image and video processing\n",
        "* [Pandas](https://pandas.pydata.org/) for file I/O and data analysis\n",
        "\n",
        "Instead of reinventing the wheel, PyTorch interoperates really well with Numpy to leverage its existing ecosystem of tools and libraries."
      ],
      "metadata": {
        "id": "5ZrVOxRK6Bqb"
      }
    },
    {
      "cell_type": "code",
      "source": [
        "import numpy as np\n",
        "x = np.array([[1,2],[3,4.]])\n",
        "x"
      ],
      "metadata": {
        "colab": {
          "base_uri": "https://localhost:8080/"
        },
        "id": "fz2D3pxW54e8",
        "outputId": "c6b1a68f-a6f9-472a-a62b-b5a4df52b6b9"
      },
      "execution_count": 16,
      "outputs": [
        {
          "output_type": "execute_result",
          "data": {
            "text/plain": [
              "array([[1., 2.],\n",
              "       [3., 4.]])"
            ]
          },
          "metadata": {},
          "execution_count": 16
        }
      ]
    },
    {
      "cell_type": "markdown",
      "source": [
        "We can convert a Numpy array to a PyTorch tensor using `torch.from_numpy`."
      ],
      "metadata": {
        "id": "HIOtf52J-897"
      }
    },
    {
      "cell_type": "code",
      "source": [
        "# COvnert the numpy array to a torch tensor\n",
        "y = torch.from_numpy(x)\n",
        "y"
      ],
      "metadata": {
        "colab": {
          "base_uri": "https://localhost:8080/"
        },
        "id": "XibUBLr5-ydE",
        "outputId": "0ea39684-33d1-49b2-fd76-694008921cfd"
      },
      "execution_count": 17,
      "outputs": [
        {
          "output_type": "execute_result",
          "data": {
            "text/plain": [
              "tensor([[1., 2.],\n",
              "        [3., 4.]], dtype=torch.float64)"
            ]
          },
          "metadata": {},
          "execution_count": 17
        }
      ]
    },
    {
      "cell_type": "markdown",
      "source": [
        "We can convert a PyTorch tensor to a Numpy array using the `.numpy` method of a tensor."
      ],
      "metadata": {
        "id": "AyCc2J1W_WDi"
      }
    },
    {
      "cell_type": "code",
      "source": [
        "x.dtype,y.dtype"
      ],
      "metadata": {
        "colab": {
          "base_uri": "https://localhost:8080/"
        },
        "id": "xx_4uyXw_RJt",
        "outputId": "df0468e7-6111-43c5-83ac-9555f67a1e8d"
      },
      "execution_count": 18,
      "outputs": [
        {
          "output_type": "execute_result",
          "data": {
            "text/plain": [
              "(dtype('float64'), torch.float64)"
            ]
          },
          "metadata": {},
          "execution_count": 18
        }
      ]
    },
    {
      "cell_type": "markdown",
      "source": [],
      "metadata": {
        "id": "1lluQ8jj_6T5"
      }
    },
    {
      "cell_type": "code",
      "source": [],
      "metadata": {
        "id": "xuQa4DVMAmCn"
      },
      "execution_count": null,
      "outputs": []
    }
  ]
}